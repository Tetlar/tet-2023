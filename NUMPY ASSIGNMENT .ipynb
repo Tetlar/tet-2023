{
 "cells": [
  {
   "cell_type": "code",
   "execution_count": 4,
   "id": "59907fcc-2690-490a-86b4-9cca72b34823",
   "metadata": {},
   "outputs": [
    {
     "data": {
      "text/plain": [
       "166.7"
      ]
     },
     "execution_count": 4,
     "metadata": {},
     "output_type": "execute_result"
    }
   ],
   "source": [
    "import numpy as np\n",
    "heights = np.array([160,155,172,165,180,158,175,163,171,168])\n",
    "mean= np.mean(heights)\n",
    "mean"
   ]
  },
  {
   "cell_type": "code",
   "execution_count": 5,
   "id": "45c5c732-50c9-48c0-89f0-46822512809d",
   "metadata": {},
   "outputs": [
    {
     "data": {
      "text/plain": [
       "166.5"
      ]
     },
     "execution_count": 5,
     "metadata": {},
     "output_type": "execute_result"
    }
   ],
   "source": [
    "median= np.median(heights)\n",
    "median"
   ]
  },
  {
   "cell_type": "code",
   "execution_count": 6,
   "id": "93b5e828-09ab-4a5a-9ebd-a62014e7b9f5",
   "metadata": {},
   "outputs": [
    {
     "data": {
      "text/plain": [
       "7.5372408744845085"
      ]
     },
     "execution_count": 6,
     "metadata": {},
     "output_type": "execute_result"
    }
   ],
   "source": [
    "std_dev=np.std(heights)\n",
    "std_dev"
   ]
  },
  {
   "cell_type": "code",
   "execution_count": 7,
   "id": "be9b59f6-7086-4538-ad5d-9f9d6bf2e32c",
   "metadata": {},
   "outputs": [
    {
     "data": {
      "text/plain": [
       "4"
      ]
     },
     "execution_count": 7,
     "metadata": {},
     "output_type": "execute_result"
    }
   ],
   "source": [
    "argmax= np.argmax(heights)\n",
    "argmax"
   ]
  },
  {
   "cell_type": "code",
   "execution_count": 8,
   "id": "4c2b0e37-e25f-4c33-a1eb-3c0561a746dd",
   "metadata": {},
   "outputs": [
    {
     "data": {
      "text/plain": [
       "1"
      ]
     },
     "execution_count": 8,
     "metadata": {},
     "output_type": "execute_result"
    }
   ],
   "source": [
    "argmin= np.argmin(heights)\n",
    "argmin"
   ]
  },
  {
   "cell_type": "code",
   "execution_count": 9,
   "id": "3bce88c5-d981-414a-8deb-5f9bc63f171d",
   "metadata": {},
   "outputs": [
    {
     "data": {
      "text/plain": [
       "180"
      ]
     },
     "execution_count": 9,
     "metadata": {},
     "output_type": "execute_result"
    }
   ],
   "source": [
    "max=np.max(heights)\n",
    "max"
   ]
  },
  {
   "cell_type": "code",
   "execution_count": 10,
   "id": "e68ae3e6-ce11-4be4-b7ae-9c96a9377bb5",
   "metadata": {},
   "outputs": [
    {
     "data": {
      "text/plain": [
       "155"
      ]
     },
     "execution_count": 10,
     "metadata": {},
     "output_type": "execute_result"
    }
   ],
   "source": [
    "min=np.min(heights)\n",
    "min"
   ]
  },
  {
   "cell_type": "code",
   "execution_count": 11,
   "id": "2dfec861-ec0a-442c-909b-0094267384da",
   "metadata": {},
   "outputs": [
    {
     "data": {
      "text/plain": [
       "25"
      ]
     },
     "execution_count": 11,
     "metadata": {},
     "output_type": "execute_result"
    }
   ],
   "source": [
    "tet=np.max(heights)-np.min(heights)\n",
    "tet"
   ]
  },
  {
   "cell_type": "code",
   "execution_count": 24,
   "id": "0433b81e-4020-49b6-8bbe-03220f6f47a1",
   "metadata": {},
   "outputs": [
    {
     "data": {
      "text/plain": [
       "array([-0.16316685,  1.73218404,  0.63672163, -0.4383194 ,  1.54656725])"
      ]
     },
     "execution_count": 24,
     "metadata": {},
     "output_type": "execute_result"
    }
   ],
   "source": [
    "normal_random =np.random.randn(5)\n",
    "normal_random"
   ]
  },
  {
   "cell_type": "code",
   "execution_count": 17,
   "id": "f8b0e937-9e1e-4690-b1f4-971bc6b109e8",
   "metadata": {},
   "outputs": [
    {
     "data": {
      "text/plain": [
       "-0.5938127488898074"
      ]
     },
     "execution_count": 17,
     "metadata": {},
     "output_type": "execute_result"
    }
   ],
   "source": [
    "normal_random=np.random.randn()\n",
    "normal_random"
   ]
  },
  {
   "cell_type": "code",
   "execution_count": null,
   "id": "de64baa4-8a35-47a5-b2e3-cd6c240c0009",
   "metadata": {},
   "outputs": [],
   "source": []
  }
 ],
 "metadata": {
  "kernelspec": {
   "display_name": "Python 3 (ipykernel)",
   "language": "python",
   "name": "python3"
  },
  "language_info": {
   "codemirror_mode": {
    "name": "ipython",
    "version": 3
   },
   "file_extension": ".py",
   "mimetype": "text/x-python",
   "name": "python",
   "nbconvert_exporter": "python",
   "pygments_lexer": "ipython3",
   "version": "3.11.5"
  }
 },
 "nbformat": 4,
 "nbformat_minor": 5
}
